{
  "nbformat": 4,
  "nbformat_minor": 0,
  "metadata": {
    "colab": {
      "provenance": []
    },
    "kernelspec": {
      "name": "python3",
      "display_name": "Python 3"
    },
    "language_info": {
      "name": "python"
    }
  },
  "cells": [
    {
      "cell_type": "code",
      "source": [
        "import pandas as pd\n",
        "data = pd.read_csv(\"/content/sample_data/EMPLOYEE.csv\")\n",
        "jobdesc = pd.read_csv(\"/content/sample_data/JOB - JOB.csv\")\n",
        "course = pd.read_csv(\"/content/sample_data/courses - courses.csv\")"
      ],
      "metadata": {
        "id": "zN3XA_VvfSdV"
      },
      "execution_count": 483,
      "outputs": []
    },
    {
      "cell_type": "code",
      "source": [
        "data.head"
      ],
      "metadata": {
        "colab": {
          "base_uri": "https://localhost:8080/"
        },
        "id": "e-U6KaFMfbwN",
        "outputId": "22e0a908-c7a0-4e2d-a77e-8cb83b0abe65"
      },
      "execution_count": 484,
      "outputs": [
        {
          "output_type": "execute_result",
          "data": {
            "text/plain": [
              "<bound method NDFrame.head of                 Name  Experience           Job Role  Gender  \\\n",
              "0       Alice Turner           7  Software Engineer  Female   \n",
              "1          Bob Evans           3       Data Analyst    Male   \n",
              "2        Emma Foster           5     UI/UX Designer  Female   \n",
              "3        Jack Murphy           2   Junior Developer    Male   \n",
              "4       Sophia Adams           9     Data Scientist  Female   \n",
              "..               ...         ...                ...     ...   \n",
              "253  Benjamin Turner           9    DevOps Engineer    Male   \n",
              "254     Harper Adams           2    Content Creator  Female   \n",
              "255   Henry Martinez           7       Data Analyst    Male   \n",
              "256      Grace Baker           4        UX Designer  Female   \n",
              "257    Samuel Turner           1   Junior Developer    Male   \n",
              "\n",
              "                                    Skills    Phone Number  \\\n",
              "0                     Java Python HTML CSS  (111) 123-4567   \n",
              "1                  Data Analysis SQL Excel  (222) 234-5678   \n",
              "2        UI/UX Design Wireframing Adobe XD  (333) 345-6789   \n",
              "3                HTML CSS JavaScript React  (444) 456-7890   \n",
              "4    Python Machine Learning Data Analysis  (555) 567-8901   \n",
              "..                                     ...             ...   \n",
              "253               CI/CD Docker AWS Jenkins  (222) 456-7890   \n",
              "254         Video Editing Social Media SEO  (333) 567-8901   \n",
              "255      Data Cleaning Visualization Excel  (444) 678-9012   \n",
              "256  Wireframing User Research Prototyping  (555) 789-0123   \n",
              "257                 Python Django REST API  (666) 890-1234   \n",
              "\n",
              "                         Email Employment Status  \n",
              "0       alice.turner@email.com          Employed  \n",
              "1          bob.evans@email.com          Employed  \n",
              "2        emma.foster@email.com          Employed  \n",
              "3        jack.murphy@email.com        Unemployed  \n",
              "4       sophia.adams@email.com          Employed  \n",
              "..                         ...               ...  \n",
              "253  benjamin.turner@email.com          Employed  \n",
              "254     harper.adams@email.com          Employed  \n",
              "255   henry.martinez@email.com          Employed  \n",
              "256      grace.baker@email.com          Employed  \n",
              "257    samuel.turner@email.com        Unemployed  \n",
              "\n",
              "[258 rows x 8 columns]>"
            ]
          },
          "metadata": {},
          "execution_count": 484
        }
      ]
    },
    {
      "cell_type": "code",
      "source": [
        "data.shape"
      ],
      "metadata": {
        "colab": {
          "base_uri": "https://localhost:8080/"
        },
        "id": "C2WgtLXWfoCs",
        "outputId": "59d684ec-47e4-47c8-e8e1-e8ec636d77be"
      },
      "execution_count": 485,
      "outputs": [
        {
          "output_type": "execute_result",
          "data": {
            "text/plain": [
              "(258, 8)"
            ]
          },
          "metadata": {},
          "execution_count": 485
        }
      ]
    },
    {
      "cell_type": "code",
      "source": [
        "data = data.drop_duplicates()"
      ],
      "metadata": {
        "id": "bOlVezkuftU8"
      },
      "execution_count": 486,
      "outputs": []
    },
    {
      "cell_type": "code",
      "source": [
        "data.shape\n"
      ],
      "metadata": {
        "colab": {
          "base_uri": "https://localhost:8080/"
        },
        "id": "mDhrgfYZf9Md",
        "outputId": "b018c793-f8b6-4476-8020-76dcd7e4e634"
      },
      "execution_count": 487,
      "outputs": [
        {
          "output_type": "execute_result",
          "data": {
            "text/plain": [
              "(258, 8)"
            ]
          },
          "metadata": {},
          "execution_count": 487
        }
      ]
    },
    {
      "cell_type": "markdown",
      "source": [
        "#Cosine Similarity after vectorization of Texts"
      ],
      "metadata": {
        "id": "XYQ1T8SYgZ55"
      }
    },
    {
      "cell_type": "code",
      "execution_count": 488,
      "metadata": {
        "id": "iOzab3fhMoiA"
      },
      "outputs": [],
      "source": [
        "\n",
        "from sklearn.feature_extraction.text import CountVectorizer\n",
        "from sklearn.metrics.pairwise import cosine_similarity\n",
        "def match_predict(t1,t2):\n",
        "    cv = CountVectorizer()\n",
        "    text=[t1,t2]\n",
        "    countmatrix = cv.fit_transform(text)\n",
        "    matchpercent= cosine_similarity(countmatrix)[0][1] * 100\n",
        "    matchpercent= round(matchpercent,2)\n",
        "    return(matchpercent)"
      ]
    },
    {
      "cell_type": "markdown",
      "source": [
        "#NLP ALGORITHM\n",
        " A model to identify important keywords to extract required skills from a job description using CountVectorizer,Text Frequency(TF) and Inverse Document Frequency(IDF)"
      ],
      "metadata": {
        "id": "uDigPhH0dupo"
      }
    },
    {
      "cell_type": "code",
      "source": [
        "from sklearn.feature_extraction.text import CountVectorizer, TfidfTransformer\n",
        "import nltk\n",
        "from nltk.corpus import stopwords\n",
        "import re\n",
        "\n",
        "def converttokeywords(text):\n",
        "\n",
        "\n",
        "  # Preprocess and tokenize text\n",
        "  def preprocess(text):\n",
        "      text = text.lower()\n",
        "      text = re.sub(r'\\d+', '', text)  # Remove numbers\n",
        "      text = re.sub(r'\\s+', ' ', text)  # Replace multiple spaces with a single space\n",
        "      return text\n",
        "\n",
        "  preprocessed_text = preprocess(text)\n",
        "\n",
        "  # Tokenize and remove stopwords\n",
        "  stop_words = set(stopwords.words(\"english\"))\n",
        "  tokenized_text = nltk.word_tokenize(preprocessed_text)\n",
        "  filtered_text = [word for word in tokenized_text if word not in stop_words]\n",
        "\n",
        "  # Convert tokens back to text\n",
        "  filtered_text_str = \" \".join(filtered_text)\n",
        "\n",
        "  # Create a CountVectorizer\n",
        "  vectorizer = CountVectorizer()\n",
        "\n",
        "  # Fit and transform the text data\n",
        "  X = vectorizer.fit_transform([filtered_text_str])\n",
        "\n",
        "  # Create a TfidfTransformer\n",
        "  tfidf_transformer = TfidfTransformer()\n",
        "\n",
        "  # Transform the count matrix to TF-IDF\n",
        "  tfidf_matrix = tfidf_transformer.fit_transform(X)\n",
        "\n",
        "  # Get feature names (words)\n",
        "  feature_names = vectorizer.get_feature_names_out()\n",
        "\n",
        "  # Get TF-IDF scores for each feature (word)\n",
        "  tfidf_scores = tfidf_matrix.toarray()[0]\n",
        "\n",
        "  # Sort and select top keywords\n",
        "  num_keywords = 7;\n",
        "  sorted_indices = tfidf_scores.argsort()[-num_keywords:][::-1]\n",
        "  top_keywords = [feature_names[idx] for idx in sorted_indices]\n",
        "\n",
        "  return top_keywords\n"
      ],
      "metadata": {
        "id": "qCABIkz3zohG"
      },
      "execution_count": 489,
      "outputs": []
    },
    {
      "cell_type": "markdown",
      "source": [
        "#Testing Extraction of Keywords from Job Expectations\n"
      ],
      "metadata": {
        "id": "AtLuFrb2fqsp"
      }
    },
    {
      "cell_type": "code",
      "source": [
        "for i in jobdesc['Expectations']:\n",
        "  print(converttokeywords(i))"
      ],
      "metadata": {
        "colab": {
          "base_uri": "https://localhost:8080/"
        },
        "id": "6RTj-zvb9kBn",
        "outputId": "c5c500eb-305a-49f2-fbef-506238b7a556"
      },
      "execution_count": 490,
      "outputs": [
        {
          "output_type": "stream",
          "name": "stdout",
          "text": [
            "['knowledge', 'python', 'data', 'visulalization', 'sql', 'libraries', 'expert']\n",
            "['java', 'swing', 'knowledge', 'jdbc', 'expert']\n",
            "['marketing', 'knowledge', 'great', 'finance', 'expert', 'digital']\n",
            "['knowledge', 'great', 'graphics', 'front', 'frameworks', 'end', 'designing']\n",
            "['strong', 'preferred', 'networking', 'knowledge', 'ccna']\n",
            "['knowledge', 'sql', 'python', 'great', 'excel', 'data', 'analysis']\n",
            "['java', 'swing', 'knowledge', 'jdbc', 'expert']\n",
            "['seo', 'knowledge', 'great', 'copywriting', 'blogging']\n",
            "['strong', 'skills', 'people', 'management', 'great', 'expertise', 'communication']\n",
            "['knowledge', 'great', 'works', 'ux', 'ui', 'react', 'javascript']\n",
            "['sql', 'nosql', 'knowledge', 'expert', 'databases', 'containerization']\n",
            "['skills', 'handling', 'great', 'customer', 'communication', 'capablities']\n",
            "['skills', 'knowledge', 'finance', 'communication']\n",
            "['sql', 'shoud', 'knowledge', 'frameworks', 'familier', 'excel', 'data']\n",
            "['expert', 'strategy', 'skills', 'relations', 'recruitment', 'product', 'market']\n",
            "['tracking', 'testing', 'knowledge', 'great', 'expert', 'bug']\n",
            "['knowledge', 'great', 'works', 'ux', 'ui', 'react', 'javascript']\n",
            "['sql', 'shoud', 'knowledge', 'frameworks', 'familier', 'excel', 'data']\n",
            "['seo', 'marketing', 'expertise', 'email', 'creation', 'copywriting', 'content']\n",
            "['testing', 'recognize', 'knowledge', 'bugs']\n"
          ]
        }
      ]
    },
    {
      "cell_type": "markdown",
      "source": [
        "#Using Regular Expressions to search for unmatched keyword in Job Description"
      ],
      "metadata": {
        "id": "UMccwyopf8hg"
      }
    },
    {
      "cell_type": "code",
      "source": [
        "import re\n",
        "\n",
        "def neededskills(text,keywords):\n",
        "\n",
        "  # Perform string matching for each keyword\n",
        "  unmatched_keywords = [keyword for keyword in keywords if not re.search(r'\\b' + re.escape(keyword) + r'\\b', text, re.IGNORECASE)]\n",
        "\n",
        "  return(unmatched_keywords)"
      ],
      "metadata": {
        "id": "oSg13xFGsxgJ"
      },
      "execution_count": 491,
      "outputs": []
    },
    {
      "cell_type": "code",
      "source": [
        "applicantskill =data.iloc[0,data.columns.get_loc('Skills')].lower()\n",
        "jobskill = ' '.join(map(str,converttokeywords(jobdesc.iloc[0,jobdesc.columns.get_loc('Expectations')])))\n",
        "print(match_predict(applicantskill,jobskill))"
      ],
      "metadata": {
        "colab": {
          "base_uri": "https://localhost:8080/"
        },
        "id": "mtcdoVbk_nUX",
        "outputId": "8c610839-c2f6-453f-df62-4e7f740d18cb"
      },
      "execution_count": 492,
      "outputs": [
        {
          "output_type": "stream",
          "name": "stdout",
          "text": [
            "18.9\n"
          ]
        }
      ]
    },
    {
      "cell_type": "code",
      "source": [
        "applicantskill =data.iloc[0,data.columns.get_loc('Skills')].lower()\n",
        "jobskill = converttokeywords(jobdesc.iloc[0,jobdesc.columns.get_loc('Expectations')])\n",
        "print(neededskills(applicantskill,jobskill))"
      ],
      "metadata": {
        "id": "1U-omh8tHIQp",
        "colab": {
          "base_uri": "https://localhost:8080/"
        },
        "outputId": "f0ae7ee9-c004-4c90-9024-a9e50c742e39"
      },
      "execution_count": 493,
      "outputs": [
        {
          "output_type": "stream",
          "name": "stdout",
          "text": [
            "['knowledge', 'data', 'visulalization', 'sql', 'libraries', 'expert']\n"
          ]
        }
      ]
    },
    {
      "cell_type": "markdown",
      "source": [
        "#Finding Company and Job roles for the applicant skillset"
      ],
      "metadata": {
        "id": "98xqlecigqeh"
      }
    },
    {
      "cell_type": "code",
      "source": [
        "def findjobs(applicantskill):\n",
        "  applicantskill = applicantskill.lower()\n",
        "  companyroles= []\n",
        "  for i in range(jobdesc.shape[0]):\n",
        "    jobskill = ' '.join(map(str,converttokeywords(jobdesc.iloc[i,jobdesc.columns.get_loc('Expectations')])))\n",
        "    if(match_predict(applicantskill,jobskill)>20):\n",
        "\n",
        "      companyroles.append([jobdesc.iloc[i,jobdesc.columns.get_loc('Company')],jobdesc.iloc[i,jobdesc.columns.get_loc('JobTitle')]])\n",
        "  return companyroles\n",
        "  # return companyroles"
      ],
      "metadata": {
        "id": "bLXHNX8dLIkM"
      },
      "execution_count": 494,
      "outputs": []
    },
    {
      "cell_type": "code",
      "source": [
        "applicantskill =data.iloc[0,data.columns.get_loc('Skills')]\n",
        "print(findjobs(applicantskill))"
      ],
      "metadata": {
        "colab": {
          "base_uri": "https://localhost:8080/"
        },
        "id": "3JtusH5RNjNz",
        "outputId": "3d2d8e0d-da79-414b-cfcb-0240b8ebaa69"
      },
      "execution_count": 495,
      "outputs": [
        {
          "output_type": "stream",
          "name": "stdout",
          "text": [
            "[['Google', 'Software Engineer'], ['Citi', 'Front-end Developer']]\n"
          ]
        }
      ]
    },
    {
      "cell_type": "markdown",
      "source": [
        "#Ranking of candidates based on Cosine similarity between JOB expectations"
      ],
      "metadata": {
        "id": "5PfazYCgg0tp"
      }
    },
    {
      "cell_type": "code",
      "source": [
        "def rankcandidates(jobskill):\n",
        "  ranklist = []\n",
        "  jobskill = ' '.join(map(str,converttokeywords(jobskill)))\n",
        "  for i in range(data.shape[0]):\n",
        "    ranklist.append([data.iloc[i,data.columns.get_loc(\"Name\")],match_predict(data.iloc[i,data.columns.get_loc('Skills')].lower(),jobskill)])\n",
        "  ranklist.sort(key = lambda x : x[1],reverse = True)\n",
        "  return ranklist\n"
      ],
      "metadata": {
        "id": "Ais3Me0kRbU0"
      },
      "execution_count": 496,
      "outputs": []
    },
    {
      "cell_type": "code",
      "source": [
        "jobskills = jobdesc.iloc[9,jobdesc.columns.get_loc('Expectations')]\n",
        "print(jobskills)\n",
        "print(rankcandidates(jobskills))"
      ],
      "metadata": {
        "colab": {
          "base_uri": "https://localhost:8080/"
        },
        "id": "6y8V_Q8WVXam",
        "outputId": "3dc77ffe-c618-48c4-984b-b0f2c2e8b7d3"
      },
      "execution_count": 497,
      "outputs": [
        {
          "output_type": "stream",
          "name": "stdout",
          "text": [
            "Great knowledge in UI or UX. Should be expert in front end frame works. Great Knowledge in HTML, CSS, JavaScript, React or Angular.\n",
            "[['Jack Murphy', 37.8], ['Liam Murphy', 37.8], ['Liam Turner', 37.8], ['Liam Turner', 37.8], ['Liam Turner', 37.8], ['Liam Turner', 37.8], ['Liam Turner', 37.8], ['Liam Turner', 37.8], ['Liam Turner', 37.8], ['Liam Turner', 37.8], ['Liam Turner', 37.8], ['Liam Turner', 37.8], ['Emma Foster', 30.86], ['Chloe Turner', 30.86], ['Chloe Martinez', 30.86], ['Chloe Martinez', 30.86], ['Chloe Martinez', 30.86], ['Chloe Martinez', 30.86], ['Chloe Martinez', 30.86], ['Chloe Martinez', 30.86], ['Chloe Martinez', 30.86], ['Chloe Martinez', 30.86], ['Chloe Martinez', 30.86], ['Chloe Martinez', 30.86], ['Alice Turner', 0.0], ['Bob Evans', 0.0], ['Sophia Adams', 0.0], ['Liam Turner', 0.0], ['Olivia Cook', 0.0], ['Ethan Martinez', 0.0], ['Mia Turner', 0.0], ['Lucas Foster', 0.0], ['Amelia Adams', 0.0], ['Benjamin Turner', 0.0], ['Harper Turner', 0.0], ['Henry Cook', 0.0], ['Grace Foster', 0.0], ['Samuel Murphy', 0.0], ['Victoria Turner', 0.0], ['Joseph Cook', 0.0], ['Natalie Foster', 0.0], ['Christopher Turner', 0.0], ['Olivia Murphy', 0.0], ['Andrew Adams', 0.0], ['Daniel Evans', 0.0], ['Sophia Foster', 0.0], ['Isabella Turner', 0.0], ['Jackson Cook', 0.0], ['Olivia Turner', 0.0], ['Ethan Adams', 0.0], ['Mia Hall', 0.0], ['Lucas Foster', 0.0], ['Amelia Murphy', 0.0], ['Benjamin Turner', 0.0], ['Harper Adams', 0.0], ['Henry Martinez', 0.0], ['Grace Baker', 0.0], ['Samuel Turner', 0.0], ['Victoria Cook', 0.0], ['Joseph Turner', 0.0], ['Natalie Adams', 0.0], ['Christopher Foster', 0.0], ['Olivia Turner', 0.0], ['Andrew Adams', 0.0], ['Daniel Foster', 0.0], ['Sophia Murphy', 0.0], ['Isabella Adams', 0.0], ['Jackson Turner', 0.0], ['Olivia Cook', 0.0], ['Ethan Adams', 0.0], ['Mia Foster', 0.0], ['Lucas Turner', 0.0], ['Amelia Murphy', 0.0], ['Benjamin Turner', 0.0], ['Harper Adams', 0.0], ['Henry Martinez', 0.0], ['Grace Baker', 0.0], ['Samuel Turner', 0.0], ['Victoria Cook', 0.0], ['Joseph Turner', 0.0], ['Natalie Adams', 0.0], ['Christopher Foster', 0.0], ['Olivia Turner', 0.0], ['Andrew Adams', 0.0], ['Daniel Foster', 0.0], ['Sophia Murphy', 0.0], ['Isabella Adams', 0.0], ['Jackson Turner', 0.0], ['Olivia Cook', 0.0], ['Ethan Adams', 0.0], ['Mia Foster', 0.0], ['Lucas Turner', 0.0], ['Amelia Murphy', 0.0], ['Benjamin Turner', 0.0], ['Harper Adams', 0.0], ['Henry Martinez', 0.0], ['Grace Baker', 0.0], ['Samuel Turner', 0.0], ['Victoria Cook', 0.0], ['Joseph Turner', 0.0], ['Natalie Adams', 0.0], ['Christopher Foster', 0.0], ['Olivia Turner', 0.0], ['Andrew Adams', 0.0], ['Daniel Foster', 0.0], ['Sophia Murphy', 0.0], ['Isabella Adams', 0.0], ['Jackson Turner', 0.0], ['Olivia Cook', 0.0], ['Ethan Adams', 0.0], ['Mia Foster', 0.0], ['Lucas Turner', 0.0], ['Amelia Murphy', 0.0], ['Benjamin Turner', 0.0], ['Harper Adams', 0.0], ['Henry Martinez', 0.0], ['Grace Baker', 0.0], ['Samuel Turner', 0.0], ['Victoria Cook', 0.0], ['Joseph Turner', 0.0], ['Natalie Adams', 0.0], ['Christopher Foster', 0.0], ['Olivia Turner', 0.0], ['Andrew Adams', 0.0], ['Daniel Foster', 0.0], ['Sophia Murphy', 0.0], ['Isabella Adams', 0.0], ['Jackson Turner', 0.0], ['Olivia Cook', 0.0], ['Ethan Adams', 0.0], ['Mia Foster', 0.0], ['Lucas Turner', 0.0], ['Amelia Murphy', 0.0], ['Benjamin Turner', 0.0], ['Harper Adams', 0.0], ['Henry Martinez', 0.0], ['Grace Baker', 0.0], ['Samuel Turner', 0.0], ['Victoria Cook', 0.0], ['Joseph Turner', 0.0], ['Natalie Adams', 0.0], ['Christopher Foster', 0.0], ['Olivia Turner', 0.0], ['Andrew Adams', 0.0], ['Daniel Foster', 0.0], ['Sophia Murphy', 0.0], ['Isabella Adams', 0.0], ['Jackson Turner', 0.0], ['Olivia Cook', 0.0], ['Ethan Adams', 0.0], ['Mia Foster', 0.0], ['Lucas Turner', 0.0], ['Amelia Murphy', 0.0], ['Benjamin Turner', 0.0], ['Harper Adams', 0.0], ['Henry Martinez', 0.0], ['Grace Baker', 0.0], ['Samuel Turner', 0.0], ['Victoria Cook', 0.0], ['Joseph Turner', 0.0], ['Natalie Adams', 0.0], ['Christopher Foster', 0.0], ['Olivia Turner', 0.0], ['Andrew Adams', 0.0], ['Daniel Foster', 0.0], ['Sophia Murphy', 0.0], ['Isabella Adams', 0.0], ['Jackson Turner', 0.0], ['Olivia Cook', 0.0], ['Ethan Adams', 0.0], ['Mia Foster', 0.0], ['Lucas Turner', 0.0], ['Amelia Murphy', 0.0], ['Benjamin Turner', 0.0], ['Harper Adams', 0.0], ['Henry Martinez', 0.0], ['Grace Baker', 0.0], ['Samuel Turner', 0.0], ['Victoria Cook', 0.0], ['Joseph Turner', 0.0], ['Natalie Adams', 0.0], ['Christopher Foster', 0.0], ['Olivia Turner', 0.0], ['Andrew Adams', 0.0], ['Daniel Foster', 0.0], ['Sophia Murphy', 0.0], ['Isabella Adams', 0.0], ['Jackson Turner', 0.0], ['Olivia Cook', 0.0], ['Ethan Adams', 0.0], ['Mia Foster', 0.0], ['Lucas Turner', 0.0], ['Amelia Murphy', 0.0], ['Benjamin Turner', 0.0], ['Harper Adams', 0.0], ['Henry Martinez', 0.0], ['Grace Baker', 0.0], ['Samuel Turner', 0.0], ['Victoria Cook', 0.0], ['Joseph Turner', 0.0], ['Natalie Adams', 0.0], ['Christopher Foster', 0.0], ['Olivia Turner', 0.0], ['Andrew Adams', 0.0], ['Daniel Foster', 0.0], ['Sophia Murphy', 0.0], ['Isabella Adams', 0.0], ['Jackson Turner', 0.0], ['Olivia Cook', 0.0], ['Ethan Adams', 0.0], ['Mia Foster', 0.0], ['Lucas Turner', 0.0], ['Amelia Murphy', 0.0], ['Benjamin Turner', 0.0], ['Harper Adams', 0.0], ['Henry Martinez', 0.0], ['Grace Baker', 0.0], ['Samuel Turner', 0.0], ['Victoria Cook', 0.0], ['Joseph Turner', 0.0], ['Natalie Adams', 0.0], ['Christopher Foster', 0.0], ['Olivia Turner', 0.0], ['Andrew Adams', 0.0], ['Daniel Foster', 0.0], ['Sophia Murphy', 0.0], ['Isabella Adams', 0.0], ['Jackson Turner', 0.0], ['Olivia Cook', 0.0], ['Ethan Adams', 0.0], ['Mia Foster', 0.0], ['Lucas Turner', 0.0], ['Amelia Murphy', 0.0], ['Benjamin Turner', 0.0], ['Harper Adams', 0.0], ['Henry Martinez', 0.0], ['Grace Baker', 0.0], ['Samuel Turner', 0.0], ['Victoria Cook', 0.0], ['Joseph Turner', 0.0], ['Natalie Adams', 0.0], ['Christopher Foster', 0.0], ['Olivia Turner', 0.0], ['Andrew Adams', 0.0], ['Daniel Foster', 0.0], ['Sophia Murphy', 0.0], ['Isabella Adams', 0.0], ['Jackson Turner', 0.0], ['Olivia Cook', 0.0], ['Ethan Adams', 0.0], ['Mia Foster', 0.0], ['Lucas Turner', 0.0], ['Amelia Murphy', 0.0], ['Benjamin Turner', 0.0], ['Harper Adams', 0.0], ['Henry Martinez', 0.0], ['Grace Baker', 0.0], ['Samuel Turner', 0.0]]\n"
          ]
        }
      ]
    },
    {
      "cell_type": "markdown",
      "source": [
        "#Adding New Skills to Applicant Database and Finding Jobs\n"
      ],
      "metadata": {
        "id": "8JUVDkhUhAhB"
      }
    },
    {
      "cell_type": "code",
      "source": [
        "applicantskill =data.iloc[1,data.columns.get_loc('Skills')]\n",
        "print(findjobs(applicantskill))"
      ],
      "metadata": {
        "colab": {
          "base_uri": "https://localhost:8080/"
        },
        "id": "FPgX5y5Yr5ik",
        "outputId": "820b25f8-5e01-42a9-c03c-5cd14dfd33cb"
      },
      "execution_count": 498,
      "outputs": [
        {
          "output_type": "stream",
          "name": "stdout",
          "text": [
            "[['IBM', 'Data Scientist'], ['TCS', 'Data Analyst'], ['Cisco', 'DevOps Engineer'], ['Infosys', 'Backend Developer'], ['Meta', 'Database Administrator']]\n"
          ]
        }
      ]
    },
    {
      "cell_type": "code",
      "source": [
        "def addskill(applemail,skill):\n",
        "  data.loc[data['Email']==applemail, \"Skills\"] = data.loc[data['Email']==applemail, \"Skills\"]+\" \"+skill\n",
        "\n",
        "  data.to_csv(\"EMPLOYEE.csv\", index=False)"
      ],
      "metadata": {
        "id": "vDrMVoJvaQW3"
      },
      "execution_count": 499,
      "outputs": []
    },
    {
      "cell_type": "code",
      "source": [
        "addskill(\"bob.evans@email.com\",\"SQL\")\n",
        "data"
      ],
      "metadata": {
        "colab": {
          "base_uri": "https://localhost:8080/",
          "height": 909
        },
        "id": "hdEmeNo0cgMn",
        "outputId": "dd47b024-700a-495c-e349-52dfc24e4cee"
      },
      "execution_count": 500,
      "outputs": [
        {
          "output_type": "execute_result",
          "data": {
            "text/plain": [
              "                Name  Experience           Job Role  Gender  \\\n",
              "0       Alice Turner           7  Software Engineer  Female   \n",
              "1          Bob Evans           3       Data Analyst    Male   \n",
              "2        Emma Foster           5     UI/UX Designer  Female   \n",
              "3        Jack Murphy           2   Junior Developer    Male   \n",
              "4       Sophia Adams           9     Data Scientist  Female   \n",
              "..               ...         ...                ...     ...   \n",
              "253  Benjamin Turner           9    DevOps Engineer    Male   \n",
              "254     Harper Adams           2    Content Creator  Female   \n",
              "255   Henry Martinez           7       Data Analyst    Male   \n",
              "256      Grace Baker           4        UX Designer  Female   \n",
              "257    Samuel Turner           1   Junior Developer    Male   \n",
              "\n",
              "                                    Skills    Phone Number  \\\n",
              "0                     Java Python HTML CSS  (111) 123-4567   \n",
              "1              Data Analysis SQL Excel SQL  (222) 234-5678   \n",
              "2        UI/UX Design Wireframing Adobe XD  (333) 345-6789   \n",
              "3                HTML CSS JavaScript React  (444) 456-7890   \n",
              "4    Python Machine Learning Data Analysis  (555) 567-8901   \n",
              "..                                     ...             ...   \n",
              "253               CI/CD Docker AWS Jenkins  (222) 456-7890   \n",
              "254         Video Editing Social Media SEO  (333) 567-8901   \n",
              "255      Data Cleaning Visualization Excel  (444) 678-9012   \n",
              "256  Wireframing User Research Prototyping  (555) 789-0123   \n",
              "257                 Python Django REST API  (666) 890-1234   \n",
              "\n",
              "                         Email Employment Status  \n",
              "0       alice.turner@email.com          Employed  \n",
              "1          bob.evans@email.com          Employed  \n",
              "2        emma.foster@email.com          Employed  \n",
              "3        jack.murphy@email.com        Unemployed  \n",
              "4       sophia.adams@email.com          Employed  \n",
              "..                         ...               ...  \n",
              "253  benjamin.turner@email.com          Employed  \n",
              "254     harper.adams@email.com          Employed  \n",
              "255   henry.martinez@email.com          Employed  \n",
              "256      grace.baker@email.com          Employed  \n",
              "257    samuel.turner@email.com        Unemployed  \n",
              "\n",
              "[258 rows x 8 columns]"
            ],
            "text/html": [
              "\n",
              "  <div id=\"df-ceac2689-5a73-422c-a829-59d027310c0e\" class=\"colab-df-container\">\n",
              "    <div>\n",
              "<style scoped>\n",
              "    .dataframe tbody tr th:only-of-type {\n",
              "        vertical-align: middle;\n",
              "    }\n",
              "\n",
              "    .dataframe tbody tr th {\n",
              "        vertical-align: top;\n",
              "    }\n",
              "\n",
              "    .dataframe thead th {\n",
              "        text-align: right;\n",
              "    }\n",
              "</style>\n",
              "<table border=\"1\" class=\"dataframe\">\n",
              "  <thead>\n",
              "    <tr style=\"text-align: right;\">\n",
              "      <th></th>\n",
              "      <th>Name</th>\n",
              "      <th>Experience</th>\n",
              "      <th>Job Role</th>\n",
              "      <th>Gender</th>\n",
              "      <th>Skills</th>\n",
              "      <th>Phone Number</th>\n",
              "      <th>Email</th>\n",
              "      <th>Employment Status</th>\n",
              "    </tr>\n",
              "  </thead>\n",
              "  <tbody>\n",
              "    <tr>\n",
              "      <th>0</th>\n",
              "      <td>Alice Turner</td>\n",
              "      <td>7</td>\n",
              "      <td>Software Engineer</td>\n",
              "      <td>Female</td>\n",
              "      <td>Java Python HTML CSS</td>\n",
              "      <td>(111) 123-4567</td>\n",
              "      <td>alice.turner@email.com</td>\n",
              "      <td>Employed</td>\n",
              "    </tr>\n",
              "    <tr>\n",
              "      <th>1</th>\n",
              "      <td>Bob Evans</td>\n",
              "      <td>3</td>\n",
              "      <td>Data Analyst</td>\n",
              "      <td>Male</td>\n",
              "      <td>Data Analysis SQL Excel SQL</td>\n",
              "      <td>(222) 234-5678</td>\n",
              "      <td>bob.evans@email.com</td>\n",
              "      <td>Employed</td>\n",
              "    </tr>\n",
              "    <tr>\n",
              "      <th>2</th>\n",
              "      <td>Emma Foster</td>\n",
              "      <td>5</td>\n",
              "      <td>UI/UX Designer</td>\n",
              "      <td>Female</td>\n",
              "      <td>UI/UX Design Wireframing Adobe XD</td>\n",
              "      <td>(333) 345-6789</td>\n",
              "      <td>emma.foster@email.com</td>\n",
              "      <td>Employed</td>\n",
              "    </tr>\n",
              "    <tr>\n",
              "      <th>3</th>\n",
              "      <td>Jack Murphy</td>\n",
              "      <td>2</td>\n",
              "      <td>Junior Developer</td>\n",
              "      <td>Male</td>\n",
              "      <td>HTML CSS JavaScript React</td>\n",
              "      <td>(444) 456-7890</td>\n",
              "      <td>jack.murphy@email.com</td>\n",
              "      <td>Unemployed</td>\n",
              "    </tr>\n",
              "    <tr>\n",
              "      <th>4</th>\n",
              "      <td>Sophia Adams</td>\n",
              "      <td>9</td>\n",
              "      <td>Data Scientist</td>\n",
              "      <td>Female</td>\n",
              "      <td>Python Machine Learning Data Analysis</td>\n",
              "      <td>(555) 567-8901</td>\n",
              "      <td>sophia.adams@email.com</td>\n",
              "      <td>Employed</td>\n",
              "    </tr>\n",
              "    <tr>\n",
              "      <th>...</th>\n",
              "      <td>...</td>\n",
              "      <td>...</td>\n",
              "      <td>...</td>\n",
              "      <td>...</td>\n",
              "      <td>...</td>\n",
              "      <td>...</td>\n",
              "      <td>...</td>\n",
              "      <td>...</td>\n",
              "    </tr>\n",
              "    <tr>\n",
              "      <th>253</th>\n",
              "      <td>Benjamin Turner</td>\n",
              "      <td>9</td>\n",
              "      <td>DevOps Engineer</td>\n",
              "      <td>Male</td>\n",
              "      <td>CI/CD Docker AWS Jenkins</td>\n",
              "      <td>(222) 456-7890</td>\n",
              "      <td>benjamin.turner@email.com</td>\n",
              "      <td>Employed</td>\n",
              "    </tr>\n",
              "    <tr>\n",
              "      <th>254</th>\n",
              "      <td>Harper Adams</td>\n",
              "      <td>2</td>\n",
              "      <td>Content Creator</td>\n",
              "      <td>Female</td>\n",
              "      <td>Video Editing Social Media SEO</td>\n",
              "      <td>(333) 567-8901</td>\n",
              "      <td>harper.adams@email.com</td>\n",
              "      <td>Employed</td>\n",
              "    </tr>\n",
              "    <tr>\n",
              "      <th>255</th>\n",
              "      <td>Henry Martinez</td>\n",
              "      <td>7</td>\n",
              "      <td>Data Analyst</td>\n",
              "      <td>Male</td>\n",
              "      <td>Data Cleaning Visualization Excel</td>\n",
              "      <td>(444) 678-9012</td>\n",
              "      <td>henry.martinez@email.com</td>\n",
              "      <td>Employed</td>\n",
              "    </tr>\n",
              "    <tr>\n",
              "      <th>256</th>\n",
              "      <td>Grace Baker</td>\n",
              "      <td>4</td>\n",
              "      <td>UX Designer</td>\n",
              "      <td>Female</td>\n",
              "      <td>Wireframing User Research Prototyping</td>\n",
              "      <td>(555) 789-0123</td>\n",
              "      <td>grace.baker@email.com</td>\n",
              "      <td>Employed</td>\n",
              "    </tr>\n",
              "    <tr>\n",
              "      <th>257</th>\n",
              "      <td>Samuel Turner</td>\n",
              "      <td>1</td>\n",
              "      <td>Junior Developer</td>\n",
              "      <td>Male</td>\n",
              "      <td>Python Django REST API</td>\n",
              "      <td>(666) 890-1234</td>\n",
              "      <td>samuel.turner@email.com</td>\n",
              "      <td>Unemployed</td>\n",
              "    </tr>\n",
              "  </tbody>\n",
              "</table>\n",
              "<p>258 rows × 8 columns</p>\n",
              "</div>\n",
              "    <div class=\"colab-df-buttons\">\n",
              "\n",
              "  <div class=\"colab-df-container\">\n",
              "    <button class=\"colab-df-convert\" onclick=\"convertToInteractive('df-ceac2689-5a73-422c-a829-59d027310c0e')\"\n",
              "            title=\"Convert this dataframe to an interactive table.\"\n",
              "            style=\"display:none;\">\n",
              "\n",
              "  <svg xmlns=\"http://www.w3.org/2000/svg\" height=\"24px\" viewBox=\"0 -960 960 960\">\n",
              "    <path d=\"M120-120v-720h720v720H120Zm60-500h600v-160H180v160Zm220 220h160v-160H400v160Zm0 220h160v-160H400v160ZM180-400h160v-160H180v160Zm440 0h160v-160H620v160ZM180-180h160v-160H180v160Zm440 0h160v-160H620v160Z\"/>\n",
              "  </svg>\n",
              "    </button>\n",
              "\n",
              "  <style>\n",
              "    .colab-df-container {\n",
              "      display:flex;\n",
              "      gap: 12px;\n",
              "    }\n",
              "\n",
              "    .colab-df-convert {\n",
              "      background-color: #E8F0FE;\n",
              "      border: none;\n",
              "      border-radius: 50%;\n",
              "      cursor: pointer;\n",
              "      display: none;\n",
              "      fill: #1967D2;\n",
              "      height: 32px;\n",
              "      padding: 0 0 0 0;\n",
              "      width: 32px;\n",
              "    }\n",
              "\n",
              "    .colab-df-convert:hover {\n",
              "      background-color: #E2EBFA;\n",
              "      box-shadow: 0px 1px 2px rgba(60, 64, 67, 0.3), 0px 1px 3px 1px rgba(60, 64, 67, 0.15);\n",
              "      fill: #174EA6;\n",
              "    }\n",
              "\n",
              "    .colab-df-buttons div {\n",
              "      margin-bottom: 4px;\n",
              "    }\n",
              "\n",
              "    [theme=dark] .colab-df-convert {\n",
              "      background-color: #3B4455;\n",
              "      fill: #D2E3FC;\n",
              "    }\n",
              "\n",
              "    [theme=dark] .colab-df-convert:hover {\n",
              "      background-color: #434B5C;\n",
              "      box-shadow: 0px 1px 3px 1px rgba(0, 0, 0, 0.15);\n",
              "      filter: drop-shadow(0px 1px 2px rgba(0, 0, 0, 0.3));\n",
              "      fill: #FFFFFF;\n",
              "    }\n",
              "  </style>\n",
              "\n",
              "    <script>\n",
              "      const buttonEl =\n",
              "        document.querySelector('#df-ceac2689-5a73-422c-a829-59d027310c0e button.colab-df-convert');\n",
              "      buttonEl.style.display =\n",
              "        google.colab.kernel.accessAllowed ? 'block' : 'none';\n",
              "\n",
              "      async function convertToInteractive(key) {\n",
              "        const element = document.querySelector('#df-ceac2689-5a73-422c-a829-59d027310c0e');\n",
              "        const dataTable =\n",
              "          await google.colab.kernel.invokeFunction('convertToInteractive',\n",
              "                                                    [key], {});\n",
              "        if (!dataTable) return;\n",
              "\n",
              "        const docLinkHtml = 'Like what you see? Visit the ' +\n",
              "          '<a target=\"_blank\" href=https://colab.research.google.com/notebooks/data_table.ipynb>data table notebook</a>'\n",
              "          + ' to learn more about interactive tables.';\n",
              "        element.innerHTML = '';\n",
              "        dataTable['output_type'] = 'display_data';\n",
              "        await google.colab.output.renderOutput(dataTable, element);\n",
              "        const docLink = document.createElement('div');\n",
              "        docLink.innerHTML = docLinkHtml;\n",
              "        element.appendChild(docLink);\n",
              "      }\n",
              "    </script>\n",
              "  </div>\n",
              "\n",
              "\n",
              "<div id=\"df-6ce1bf08-4b0d-4755-86ee-77b7baa0f1f8\">\n",
              "  <button class=\"colab-df-quickchart\" onclick=\"quickchart('df-6ce1bf08-4b0d-4755-86ee-77b7baa0f1f8')\"\n",
              "            title=\"Suggest charts.\"\n",
              "            style=\"display:none;\">\n",
              "\n",
              "<svg xmlns=\"http://www.w3.org/2000/svg\" height=\"24px\"viewBox=\"0 0 24 24\"\n",
              "     width=\"24px\">\n",
              "    <g>\n",
              "        <path d=\"M19 3H5c-1.1 0-2 .9-2 2v14c0 1.1.9 2 2 2h14c1.1 0 2-.9 2-2V5c0-1.1-.9-2-2-2zM9 17H7v-7h2v7zm4 0h-2V7h2v10zm4 0h-2v-4h2v4z\"/>\n",
              "    </g>\n",
              "</svg>\n",
              "  </button>\n",
              "\n",
              "<style>\n",
              "  .colab-df-quickchart {\n",
              "    background-color: #E8F0FE;\n",
              "    border: none;\n",
              "    border-radius: 50%;\n",
              "    cursor: pointer;\n",
              "    display: none;\n",
              "    fill: #1967D2;\n",
              "    height: 32px;\n",
              "    padding: 0 0 0 0;\n",
              "    width: 32px;\n",
              "  }\n",
              "\n",
              "  .colab-df-quickchart:hover {\n",
              "    background-color: #E2EBFA;\n",
              "    box-shadow: 0px 1px 2px rgba(60, 64, 67, 0.3), 0px 1px 3px 1px rgba(60, 64, 67, 0.15);\n",
              "    fill: #174EA6;\n",
              "  }\n",
              "\n",
              "  [theme=dark] .colab-df-quickchart {\n",
              "    background-color: #3B4455;\n",
              "    fill: #D2E3FC;\n",
              "  }\n",
              "\n",
              "  [theme=dark] .colab-df-quickchart:hover {\n",
              "    background-color: #434B5C;\n",
              "    box-shadow: 0px 1px 3px 1px rgba(0, 0, 0, 0.15);\n",
              "    filter: drop-shadow(0px 1px 2px rgba(0, 0, 0, 0.3));\n",
              "    fill: #FFFFFF;\n",
              "  }\n",
              "</style>\n",
              "\n",
              "  <script>\n",
              "    async function quickchart(key) {\n",
              "      const charts = await google.colab.kernel.invokeFunction(\n",
              "          'suggestCharts', [key], {});\n",
              "    }\n",
              "    (() => {\n",
              "      let quickchartButtonEl =\n",
              "        document.querySelector('#df-6ce1bf08-4b0d-4755-86ee-77b7baa0f1f8 button');\n",
              "      quickchartButtonEl.style.display =\n",
              "        google.colab.kernel.accessAllowed ? 'block' : 'none';\n",
              "    })();\n",
              "  </script>\n",
              "</div>\n",
              "    </div>\n",
              "  </div>\n"
            ]
          },
          "metadata": {},
          "execution_count": 500
        }
      ]
    },
    {
      "cell_type": "code",
      "source": [
        "print(data.iloc[1,data.columns.get_loc('Skills')])\n",
        "print(findjobs(data.iloc[1,data.columns.get_loc('Skills')]))"
      ],
      "metadata": {
        "colab": {
          "base_uri": "https://localhost:8080/"
        },
        "id": "KW81IFj5qRWU",
        "outputId": "f1db8b38-22da-493b-e8f6-95a7c72ef44b"
      },
      "execution_count": 501,
      "outputs": [
        {
          "output_type": "stream",
          "name": "stdout",
          "text": [
            "Data Analysis SQL Excel SQL\n",
            "[['IBM', 'Data Scientist'], ['TCS', 'Data Analyst'], ['Cisco', 'DevOps Engineer'], ['Infosys', 'Backend Developer'], ['Meta', 'Database Administrator']]\n"
          ]
        }
      ]
    },
    {
      "cell_type": "markdown",
      "source": [
        "#Suggestion of Courses with respect to Required Skills"
      ],
      "metadata": {
        "id": "fkn38thFoxVt"
      }
    },
    {
      "cell_type": "code",
      "source": [
        "applicantskill =data.iloc[7,data.columns.get_loc('Skills')].lower()\n",
        "jobskill = converttokeywords(jobdesc.iloc[0,jobdesc.columns.get_loc('Expectations')])\n",
        "neededskill = neededskills(applicantskill,jobskill)"
      ],
      "metadata": {
        "id": "bfjQMH8khIoB"
      },
      "execution_count": 502,
      "outputs": []
    },
    {
      "cell_type": "code",
      "source": [
        "def suggest_courses(neededskill):\n",
        "  neededskill = ' '.join(map(str,neededskill))\n",
        "  mentorcourses = []\n",
        "  for i in range(course.shape[0]):\n",
        "    if(match_predict(neededskill,course.iloc[i,course.columns.get_loc(\"Skills_Developed\")])>30):\n",
        "      mentorcourses.append([course.iloc[i,course.columns.get_loc(\"Course\")],course.iloc[i,course.columns.get_loc(\"Instructor\")]])\n",
        "  return mentorcourses"
      ],
      "metadata": {
        "id": "f4hvLv-1jKyi"
      },
      "execution_count": 503,
      "outputs": []
    },
    {
      "cell_type": "code",
      "source": [
        "print(suggest_courses(neededskill))"
      ],
      "metadata": {
        "colab": {
          "base_uri": "https://localhost:8080/"
        },
        "id": "cBy-GRI-kdIi",
        "outputId": "83db23a7-aeea-4887-be55-81b5cb4e06cc"
      },
      "execution_count": 504,
      "outputs": [
        {
          "output_type": "stream",
          "name": "stdout",
          "text": [
            "[['Data Analysis with Pandas and NumPy', 'Jane Doe'], ['Machine Learning for Beginners', 'Dr. Emily Adams']]\n"
          ]
        }
      ]
    }
  ]
}